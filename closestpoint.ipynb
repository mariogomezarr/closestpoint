{
 "cells": [
  {
   "cell_type": "markdown",
   "metadata": {},
   "source": [
    "# Finding the closest distance from a point to a point in each category of another dataframe\n",
    "\n",
    "It is possible to determine the closest distance from a point to a given category. Let's do it.\n",
    "\n",
    "---\n",
    "\n",
    "### Preparing the environment\n",
    "#### Installing the requirements.\n",
    "\n",
    "In this repository we use classic Python libraries for data processing. However, it is important to verify that all dependencies are present."
   ]
  },
  {
   "cell_type": "code",
   "execution_count": null,
   "metadata": {},
   "outputs": [],
   "source": [
    "!pip install -r requirements.txt"
   ]
  },
  {
   "cell_type": "markdown",
   "metadata": {},
   "source": [
    "---\n",
    "\n",
    "### Importing the core of the application."
   ]
  },
  {
   "cell_type": "code",
   "execution_count": null,
   "metadata": {},
   "outputs": [],
   "source": [
    "import closestpoint as cp"
   ]
  },
  {
   "cell_type": "markdown",
   "metadata": {},
   "source": [
    "---\n",
    "\n",
    "### Loading dataframes"
   ]
  },
  {
   "cell_type": "markdown",
   "metadata": {},
   "source": [
    "The `cp.upload_xy_data(filepath)` function receives as a parameter the path of the .csv file where the static data is stored.<br>\n",
    "It is important that the longitude / East column is renamed as __X__, in capital letters, as well as the latitude / North as __Y__.<br>\n",
    "In the same way, there must be an __'id'__ column that identifies each point.<br><br>\n",
    "Although there are other columns, the algorithm _will only take these three, so you may want to set an id to be able to concatenate this information later.<br><br><br>\n",
    "The `cp.upload_target_data(filepath)` function receives as a parameter the path of the .csv file where the target data is stored.<br>\n",
    "\n",
    "The parameters of X, Y and id must be followed in the same way in this file. Also, for this specific file the classification column must be named __'category'__, in lowercase. This function will only take these four columns for processing."
   ]
  },
  {
   "cell_type": "code",
   "execution_count": null,
   "metadata": {},
   "outputs": [],
   "source": [
    "listings = cp.upload_xy_data('test/csv/listing_test.csv')\n",
    "venues = cp.upload_target_data('test/csv/venues_test.csv')"
   ]
  },
  {
   "cell_type": "markdown",
   "metadata": {},
   "source": [
    "---"
   ]
  },
  {
   "cell_type": "markdown",
   "metadata": {},
   "source": [
    "### Calculating the distances\n",
    "\n",
    "This program uses Euclidean distances in its algorithm (the closest distance between two points is a straight line between them). In this version, it is recommended that the data be entered in __decimal degrees__, following the WGS84 geographic coordinate system (EPSG: 4326).<br><br>\n",
    "In its first version, we recommend being careful with the amount of data to process, both in static data and target data, since the algorithm calculates ALL distances and then selects the smallest. Therefore, computational consumption must be taken into account."
   ]
  },
  {
   "cell_type": "code",
   "execution_count": null,
   "metadata": {
    "scrolled": true
   },
   "outputs": [],
   "source": [
    "data = cp.find_closest_points(listings, venues)"
   ]
  },
  {
   "cell_type": "markdown",
   "metadata": {},
   "source": [
    "---"
   ]
  },
  {
   "cell_type": "markdown",
   "metadata": {},
   "source": [
    "### Saving the data\n",
    "\n",
    "It is possible to print the variable where the generated dataframe is saved. In addition, we present a function that allows saving this dataframe as a csv file, using the function `cp.save_csv(df, filepath)`."
   ]
  },
  {
   "cell_type": "code",
   "execution_count": null,
   "metadata": {},
   "outputs": [],
   "source": [
    "cp.save_csv(data,\n",
    "           'test/csv/data.csv')"
   ]
  },
  {
   "cell_type": "markdown",
   "metadata": {},
   "source": [
    "---"
   ]
  }
 ],
 "metadata": {
  "kernelspec": {
   "display_name": "Python 3",
   "language": "python",
   "name": "python3"
  },
  "language_info": {
   "codemirror_mode": {
    "name": "ipython",
    "version": 3
   },
   "file_extension": ".py",
   "mimetype": "text/x-python",
   "name": "python",
   "nbconvert_exporter": "python",
   "pygments_lexer": "ipython3",
   "version": "3.7.6"
  }
 },
 "nbformat": 4,
 "nbformat_minor": 4
}
